{
 "cells": [
  {
   "cell_type": "markdown",
   "metadata": {
    "id": "qAFZxQlCT_SC"
   },
   "source": [
    "# Applied Algebra"
   ]
  },
  {
   "cell_type": "markdown",
   "metadata": {
    "id": "w1vDrAx2X_tW"
   },
   "source": [
    "Library imports (run them to apply to this notebook)"
   ]
  },
  {
   "cell_type": "code",
   "execution_count": 1,
   "metadata": {
    "id": "GMJO_iFxX1X8"
   },
   "outputs": [],
   "source": [
    "import sympy\n",
    "from sympy import symbols\n",
    "from sympy.solvers import solve"
   ]
  },
  {
   "cell_type": "markdown",
   "metadata": {
    "id": "_zHe_wUvWfSW"
   },
   "source": [
    "Example: Proportion (simple)"
   ]
  },
  {
   "cell_type": "markdown",
   "metadata": {
    "id": "RzwMXeBTWvc7"
   },
   "source": [
    "n1/d1 = n2/d2"
   ]
  },
  {
   "cell_type": "code",
   "execution_count": 1,
   "metadata": {
    "colab": {
     "base_uri": "https://localhost:8080/"
    },
    "id": "g3gbF3P_T9fe",
    "outputId": "411fb0d0-c928-486a-cabe-58ee94a13d5c"
   },
   "outputs": [
    {
     "name": "stdout",
     "output_type": "stream",
     "text": [
      "n2 =  8.0\n"
     ]
    }
   ],
   "source": [
    "# Put a zero in for the unknown value\n",
    "\n",
    "n1 = 1\n",
    "d1 = 2\n",
    "n2 = 0\n",
    "d2 = 16\n",
    "\n",
    "if n2==0:\n",
    "    answer = d2 * n1 / d1\n",
    "    print(\"n2 = \", answer)\n",
    "\n",
    "if d2==0:\n",
    "    answer = n2 * d1 / n1\n",
    "    print(\"d2 = \", answer)"
   ]
  },
  {
   "cell_type": "markdown",
   "metadata": {
    "id": "RHzs5YuHYDjE"
   },
   "source": [
    "Solving for x. The variable `eq` is the equation set equal to zero. This will print an array of solutions."
   ]
  },
  {
   "cell_type": "code",
   "execution_count": 5,
   "metadata": {
    "colab": {
     "base_uri": "https://localhost:8080/"
    },
    "id": "aGE6SY9WYSZp",
    "outputId": "233acb43-5a89-4df0-d35d-aacd3d0787dc"
   },
   "outputs": [
    {
     "name": "stdout",
     "output_type": "stream",
     "text": [
      "x=  [2]\n"
     ]
    }
   ],
   "source": [
    "x = symbols('x')\n",
    "\n",
    "# Put the equation here\n",
    "eq = x - 2\n",
    "\n",
    "print(\"x= \", solve(eq,x))"
   ]
  },
  {
   "cell_type": "markdown",
   "metadata": {
    "id": "ZUyOgxGvV19I"
   },
   "source": [
    "Simplest code to solve for `x`."
   ]
  },
  {
   "cell_type": "code",
   "execution_count": 3,
   "metadata": {
    "colab": {
     "base_uri": "https://localhost:8080/"
    },
    "id": "jwFOg3jtWFWr",
    "outputId": "865a9297-3f5b-455a-e361-2300a50987c1"
   },
   "outputs": [
    {
     "data": {
      "text/plain": [
       "[-1/2]"
      ]
     },
     "execution_count": 3,
     "metadata": {},
     "output_type": "execute_result"
    }
   ],
   "source": [
    "x = symbols('x')\n",
    "\n",
    "#Put the equation here.\n",
    "eq = 2*x + 1\n",
    "\n",
    "solve(eq,x)"
   ]
  },
  {
   "cell_type": "markdown",
   "metadata": {
    "id": "pi8ZffeRWW14"
   },
   "source": [
    "Prompt to enter equation, solve for `x`."
   ]
  },
  {
   "cell_type": "code",
   "execution_count": 4,
   "metadata": {
    "colab": {
     "base_uri": "https://localhost:8080/"
    },
    "id": "YWQzN3TKWqEI",
    "outputId": "b11a925d-27f8-4a00-c623-07568036bd33"
   },
   "outputs": [
    {
     "name": "stdout",
     "output_type": "stream",
     "text": [
      "Enter equation: 0 = x + 2\n",
      "x =  [-2]\n"
     ]
    }
   ],
   "source": [
    "x = symbols('x')\n",
    "eq = input('Enter equation: 0 = ')\n",
    "\n",
    "print(\"x = \", solve(eq,x))"
   ]
  },
  {
   "cell_type": "markdown",
   "metadata": {
    "id": "isrumO1J7fFE"
   },
   "source": [
    "More complicated solution."
   ]
  },
  {
   "cell_type": "code",
   "execution_count": 3,
   "metadata": {
    "colab": {
     "base_uri": "https://localhost:8080/"
    },
    "id": "zGJgRgbOW-up",
    "outputId": "ade06c87-2ac2-43ac-8838-c16ba430df24"
   },
   "outputs": [
    {
     "name": "stdout",
     "output_type": "stream",
     "text": [
      "x = 2\n"
     ]
    }
   ],
   "source": [
    "x = symbols('x')\n",
    "\n",
    "# Put the equation here.\n",
    "eq = 2*x - 4\n",
    "\n",
    "solution = solve(eq,x)\n",
    "print(\"x =\", solution[0])"
   ]
  },
  {
   "cell_type": "markdown",
   "metadata": {
    "id": "ftHdmq958GMW"
   },
   "source": [
    "Multiple answers."
   ]
  },
  {
   "cell_type": "code",
   "execution_count": 7,
   "metadata": {
    "colab": {
     "base_uri": "https://localhost:8080/"
    },
    "id": "nKM1-5We8Icu",
    "outputId": "281e9667-8cf7-49a7-9974-2f549c0db8a1"
   },
   "outputs": [
    {
     "name": "stdout",
     "output_type": "stream",
     "text": [
      "Enter equation: 0 = (x-1)*(x+2)*(x-3)\n",
      "x = -2\n",
      "x = 1\n",
      "x = 3\n"
     ]
    }
   ],
   "source": [
    "x = symbols('x')\n",
    "\n",
    "eq = input('Enter equation: 0 = ')\n",
    "\n",
    "solution = solve(eq,x)\n",
    "for s in solution:\n",
    "    print(\"x =\", s)"
   ]
  },
  {
   "cell_type": "markdown",
   "metadata": {
    "id": "jVc3rGhY89vF"
   },
   "source": [
    "Solving in other ways."
   ]
  },
  {
   "cell_type": "code",
   "execution_count": 2,
   "metadata": {
    "id": "JF1EKtMq9Ods"
   },
   "outputs": [],
   "source": [
    "from sympy import *"
   ]
  },
  {
   "cell_type": "code",
   "execution_count": 11,
   "metadata": {
    "colab": {
     "base_uri": "https://localhost:8080/"
    },
    "id": "RGODKywJ9HIt",
    "outputId": "e258975a-0c13-4c91-ab05-988ace2a9870"
   },
   "outputs": [
    {
     "name": "stdout",
     "output_type": "stream",
     "text": [
      "x = y/2 - 5\n"
     ]
    }
   ],
   "source": [
    "var('x y')\n",
    "\n",
    "# First equation set equal to zero, ready to solve.\n",
    "first = 2*x + 10\n",
    "\n",
    "# Sympy syntax for equation equal to zero, ready to factor.\n",
    "eq1 = Eq(first,y)\n",
    "\n",
    "# Sympy solve for x.\n",
    "sol = solve(eq1,x)\n",
    "\n",
    "# Show factored results.\n",
    "print(\"x =\", sol[0])"
   ]
  },
  {
   "cell_type": "markdown",
   "metadata": {
    "id": "bIOfVxFY-sjY"
   },
   "source": [
    "Factoring."
   ]
  },
  {
   "cell_type": "code",
   "execution_count": 13,
   "metadata": {
    "colab": {
     "base_uri": "https://localhost:8080/",
     "height": 38
    },
    "id": "0TYH5BQ--uIP",
    "outputId": "3671014a-53e8-4567-f255-a1632ca405da"
   },
   "outputs": [
    {
     "data": {
      "text/latex": [
       "$\\displaystyle \\left(x - 3\\right) \\left(x - 1\\right) \\left(x + 2\\right)$"
      ],
      "text/plain": [
       "(x - 3)*(x - 1)*(x + 2)"
      ]
     },
     "execution_count": 13,
     "metadata": {},
     "output_type": "execute_result"
    }
   ],
   "source": [
    "var('x y')\n",
    "\n",
    "# Equation set equal to zero, ready to solve.\n",
    "# eq = 2*x + 10*y + 4\n",
    "eq = x**3 - 2*x**2 - 5*x + 6\n",
    "\n",
    "sympy.factor(eq)"
   ]
  },
  {
   "cell_type": "markdown",
   "metadata": {
    "id": "eA7KFX9J_R9Y"
   },
   "source": [
    "Explaining how each function works."
   ]
  },
  {
   "cell_type": "code",
   "execution_count": null,
   "metadata": {
    "id": "M6TYasTc_RpH"
   },
   "outputs": [],
   "source": [
    "# converts string input (including fractions) to float.\n",
    "def string_frac(in_string):\n",
    "    if \"/\" in in_string:\n",
    "        nd = in_string.split(\"/\")\n",
    "        n = float(nd[0])\n",
    "        d = float(nd[1])\n",
    "        ans = n/d\n",
    "        return ans\n",
    "    else:\n",
    "        ans = float(in_string)\n",
    "        return ans\n",
    "\n",
    "# Simplest one-step addition.\n",
    "def one_step_add():\n",
    "    import random\n",
    "    # Display problem.\n",
    "    a = random.randint(-4,10)\n",
    "    b = random.randint(2,24)\n",
    "    print(\"x + \", a, \" = \", b)\n",
    "    ans = float(input(\"x = \"))\n",
    "    answer = b-a\n",
    "    # Test input\n",
    "    if ans==answer:\n",
    "        print(\"Correct! \\n\")\n",
    "        print(\"The correct answer is \", answer, \"\\n\")\n",
    "\n",
    "# One-step addition with negative numbers.\n",
    "def one_step_subtract():\n",
    "    import random\n",
    "    a = random.randint(-19,-1)\n",
    "    b = random.randint(2,24)\n",
    "    print(a, \" + x = \", b)\n",
    "    ans = float(input(\"x = \"))\n",
    "    #test\n",
    "    answer = b-a\n",
    "    if ans==answer:\n",
    "        print(\"Correct! \\n\")\n",
    "        print(\"The correct answer is \", answer, \"\\n\")\n",
    "\n",
    "# One-step multiply.\n",
    "def one_step_multiply():\n",
    "    # Uses string_frac(<input string>)\n",
    "    import random\n",
    "    a = random.randint(1,11)\n",
    "    b = random.randint(2,24)\n",
    "    print(a, \"x = \", b)\n",
    "    ans_in = (input(\"x = \"))\n",
    "    answer = b/a\n",
    "    #test\n",
    "    if string_frac(ans_in)==answer:\n",
    "        print(\"Correct! \\n\")\n",
    "    else:\n",
    "        print(\"Try again\")\n",
    "        print(\"The correct answer is \", answer, \"\\n\")"
   ]
  }
 ],
 "metadata": {
  "colab": {
   "provenance": []
  },
  "kernelspec": {
   "display_name": "Python 3 (ipykernel)",
   "language": "python",
   "name": "python3"
  },
  "language_info": {
   "codemirror_mode": {
    "name": "ipython",
    "version": 3
   },
   "file_extension": ".py",
   "mimetype": "text/x-python",
   "name": "python",
   "nbconvert_exporter": "python",
   "pygments_lexer": "ipython3",
   "version": "3.10.9"
  }
 },
 "nbformat": 4,
 "nbformat_minor": 1
}
