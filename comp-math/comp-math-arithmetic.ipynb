{
 "cells": [
  {
   "cell_type": "markdown",
   "id": "9b64916f",
   "metadata": {},
   "source": [
    "# Computational Mathematics"
   ]
  },
  {
   "cell_type": "markdown",
   "id": "23cc1b64",
   "metadata": {},
   "source": [
    "https://wgu.udemy.com/course/math-with-python/"
   ]
  },
  {
   "cell_type": "markdown",
   "id": "4dc3be69",
   "metadata": {},
   "source": [
    "# Arithmetic and Display"
   ]
  },
  {
   "cell_type": "markdown",
   "id": "10e36ebe",
   "metadata": {},
   "source": [
    "ADD, SUBTRACT, MULTIPLY, DIVIDE:"
   ]
  },
  {
   "cell_type": "code",
   "execution_count": null,
   "id": "ad98f2fc",
   "metadata": {},
   "outputs": [],
   "source": [
    "4+8"
   ]
  },
  {
   "cell_type": "code",
   "execution_count": null,
   "id": "8af4b07f",
   "metadata": {},
   "outputs": [],
   "source": [
    "4 + 8"
   ]
  },
  {
   "cell_type": "code",
   "execution_count": null,
   "id": "1c23c1db",
   "metadata": {},
   "outputs": [],
   "source": [
    "5 - 3"
   ]
  },
  {
   "cell_type": "code",
   "execution_count": null,
   "id": "7f454a35",
   "metadata": {},
   "outputs": [],
   "source": [
    "3 * 4"
   ]
  },
  {
   "cell_type": "code",
   "execution_count": null,
   "id": "b9c159a0",
   "metadata": {},
   "outputs": [],
   "source": [
    "3 / 4"
   ]
  },
  {
   "cell_type": "markdown",
   "id": "882aac93",
   "metadata": {},
   "source": [
    "VARIABLES:"
   ]
  },
  {
   "cell_type": "code",
   "execution_count": 1,
   "id": "aa676575",
   "metadata": {},
   "outputs": [
    {
     "data": {
      "text/plain": [
       "7"
      ]
     },
     "execution_count": 1,
     "metadata": {},
     "output_type": "execute_result"
    }
   ],
   "source": [
    "x = 7\n",
    "x"
   ]
  },
  {
   "cell_type": "code",
   "execution_count": 2,
   "id": "0b7dfcb0",
   "metadata": {},
   "outputs": [
    {
     "data": {
      "text/plain": [
       "5"
      ]
     },
     "execution_count": 2,
     "metadata": {},
     "output_type": "execute_result"
    }
   ],
   "source": [
    "x - 2"
   ]
  },
  {
   "cell_type": "code",
   "execution_count": 3,
   "id": "3b45ebb0",
   "metadata": {},
   "outputs": [
    {
     "data": {
      "text/plain": [
       "10"
      ]
     },
     "execution_count": 3,
     "metadata": {},
     "output_type": "execute_result"
    }
   ],
   "source": [
    "x = 10\n",
    "x"
   ]
  },
  {
   "cell_type": "code",
   "execution_count": 5,
   "id": "2e940084",
   "metadata": {},
   "outputs": [
    {
     "data": {
      "text/plain": [
       "-10"
      ]
     },
     "execution_count": 5,
     "metadata": {},
     "output_type": "execute_result"
    }
   ],
   "source": [
    "x = x - 2*5\n",
    "x"
   ]
  },
  {
   "cell_type": "code",
   "execution_count": 7,
   "id": "366ada4b",
   "metadata": {},
   "outputs": [
    {
     "name": "stdout",
     "output_type": "stream",
     "text": [
      "630\n"
     ]
    }
   ],
   "source": [
    "x = 10\n",
    "y = 20\n",
    "z = 31\n",
    "\n",
    "print(x + y * z)"
   ]
  },
  {
   "cell_type": "markdown",
   "id": "9e4f56b2",
   "metadata": {},
   "source": [
    "PRINTING EQUATIONS IN JUPYTER:"
   ]
  },
  {
   "cell_type": "code",
   "execution_count": 8,
   "id": "cdeb5819",
   "metadata": {},
   "outputs": [
    {
     "data": {
      "text/plain": [
       "'4 + 3 -7'"
      ]
     },
     "metadata": {},
     "output_type": "display_data"
    }
   ],
   "source": [
    "from IPython.display import display, Math\n",
    "display('4 + 3 -7')"
   ]
  },
  {
   "cell_type": "code",
   "execution_count": 9,
   "id": "0ba16769",
   "metadata": {},
   "outputs": [
    {
     "data": {
      "text/plain": [
       "'4 + 3 = 7'"
      ]
     },
     "metadata": {},
     "output_type": "display_data"
    }
   ],
   "source": [
    "display('4 + 3 = ' + str(4 + 3))"
   ]
  },
  {
   "cell_type": "code",
   "execution_count": 10,
   "id": "452ccf76",
   "metadata": {},
   "outputs": [
    {
     "data": {
      "text/latex": [
       "$\\displaystyle 4+3=7$"
      ],
      "text/plain": [
       "<IPython.core.display.Math object>"
      ]
     },
     "metadata": {},
     "output_type": "display_data"
    }
   ],
   "source": [
    "display(Math(\"4+3=7\"))"
   ]
  },
  {
   "cell_type": "code",
   "execution_count": 11,
   "id": "39411edd",
   "metadata": {},
   "outputs": [
    {
     "data": {
      "text/latex": [
       "$\\displaystyle 4 + 5 = 9$"
      ],
      "text/plain": [
       "<IPython.core.display.Math object>"
      ]
     },
     "metadata": {},
     "output_type": "display_data"
    }
   ],
   "source": [
    "x = 4\n",
    "y = 5\n",
    "\n",
    "display(Math(str(x) + ' + ' + str(y) + ' = ' + str(x+y)))"
   ]
  },
  {
   "cell_type": "code",
   "execution_count": 13,
   "id": "3c808598",
   "metadata": {},
   "outputs": [
    {
     "data": {
      "text/latex": [
       "$\\displaystyle 4 + 5 = 9$"
      ],
      "text/plain": [
       "<IPython.core.display.Math object>"
      ]
     },
     "metadata": {},
     "output_type": "display_data"
    }
   ],
   "source": [
    "display(Math('%g + %g = %g' %(x,y,x+y)))"
   ]
  },
  {
   "cell_type": "code",
   "execution_count": 15,
   "id": "b70fd7fa",
   "metadata": {},
   "outputs": [
    {
     "data": {
      "text/latex": [
       "$\\displaystyle 4/5 = .8$"
      ],
      "text/plain": [
       "<IPython.core.display.Math object>"
      ]
     },
     "metadata": {},
     "output_type": "display_data"
    },
    {
     "data": {
      "text/latex": [
       "$\\displaystyle \\frac{4}{5} = .8$"
      ],
      "text/plain": [
       "<IPython.core.display.Math object>"
      ]
     },
     "metadata": {},
     "output_type": "display_data"
    }
   ],
   "source": [
    "display(Math('4/5 = .8'))\n",
    "display(Math('\\\\frac{4}{5} = .8'))"
   ]
  },
  {
   "cell_type": "code",
   "execution_count": 16,
   "id": "b2a47c6d",
   "metadata": {},
   "outputs": [
    {
     "data": {
      "text/latex": [
       "$\\displaystyle 3.4 \\times 17 = 57.8$"
      ],
      "text/plain": [
       "<IPython.core.display.Math object>"
      ]
     },
     "metadata": {},
     "output_type": "display_data"
    }
   ],
   "source": [
    "x = 3.4\n",
    "y = 17\n",
    "\n",
    "display(Math('%g \\\\times %g = %g' %(x,y,x*y)))"
   ]
  },
  {
   "cell_type": "code",
   "execution_count": 23,
   "id": "0a1e78dc",
   "metadata": {},
   "outputs": [
    {
     "data": {
      "text/latex": [
       "$\\displaystyle 3x(4 + y) = 42$"
      ],
      "text/plain": [
       "<IPython.core.display.Math object>"
      ]
     },
     "metadata": {},
     "output_type": "display_data"
    },
    {
     "data": {
      "text/latex": [
       "$\\displaystyle 3x(4+y) = 42$"
      ],
      "text/plain": [
       "<IPython.core.display.Math object>"
      ]
     },
     "metadata": {},
     "output_type": "display_data"
    },
    {
     "data": {
      "text/latex": [
       "$\\displaystyle 3 \\times 7(4 + -2) = 42$"
      ],
      "text/plain": [
       "<IPython.core.display.Math object>"
      ]
     },
     "metadata": {},
     "output_type": "display_data"
    },
    {
     "data": {
      "text/latex": [
       "$\\displaystyle 3\\times7(4-2) = 42$"
      ],
      "text/plain": [
       "<IPython.core.display.Math object>"
      ]
     },
     "metadata": {},
     "output_type": "display_data"
    },
    {
     "data": {
      "text/latex": [
       "$\\displaystyle 21 \\times 2 = 42$"
      ],
      "text/plain": [
       "<IPython.core.display.Math object>"
      ]
     },
     "metadata": {},
     "output_type": "display_data"
    }
   ],
   "source": [
    "x = 7\n",
    "y = -2\n",
    "z = 5\n",
    "\n",
    "ans = 3*x*(4+y)\n",
    "\n",
    "display(Math('3x(4 + y) = 42'))\n",
    "display(Math('3x(4+y) = %g' %ans))\n",
    "display(Math('3 \\\\times 7(4 + -2) = 42'))\n",
    "display(Math('3\\\\times%g(4%g) = %g' %(x,y,ans)))\n",
    "display(Math('%g \\\\times %g = %g' %(3*x,4+y,42)))"
   ]
  },
  {
   "cell_type": "code",
   "execution_count": 26,
   "id": "78484dfe",
   "metadata": {},
   "outputs": [
    {
     "data": {
      "text/latex": [
       "$\\displaystyle -y - \\frac{x+3}{z} = 0$"
      ],
      "text/plain": [
       "<IPython.core.display.Math object>"
      ]
     },
     "metadata": {},
     "output_type": "display_data"
    },
    {
     "data": {
      "text/latex": [
       "$\\displaystyle --2 - \\frac{7+3}{5} = 0$"
      ],
      "text/plain": [
       "<IPython.core.display.Math object>"
      ]
     },
     "metadata": {},
     "output_type": "display_data"
    }
   ],
   "source": [
    "ans = -y - (x+3)/z\n",
    "\n",
    "display(Math('-y - \\\\frac{x+3}{z} = %g' %ans))\n",
    "display(Math('-%g - \\\\frac{%g+3}{%g} = %g' %(y,x,z,ans)))"
   ]
  },
  {
   "cell_type": "code",
   "execution_count": null,
   "id": "56206f14",
   "metadata": {},
   "outputs": [],
   "source": [
    "# this is where variables are defined\n",
    "x = 1\n",
    "y = 2\n",
    "# ctrl + / = hotkey for comments, incl. multi-line"
   ]
  },
  {
   "cell_type": "markdown",
   "id": "39a52352",
   "metadata": {},
   "source": [
    "EXPONENTS:"
   ]
  },
  {
   "cell_type": "code",
   "execution_count": 27,
   "id": "53e37aae",
   "metadata": {},
   "outputs": [
    {
     "data": {
      "text/plain": [
       "27"
      ]
     },
     "execution_count": 27,
     "metadata": {},
     "output_type": "execute_result"
    }
   ],
   "source": [
    "x = 3\n",
    "3 ** 3"
   ]
  },
  {
   "cell_type": "code",
   "execution_count": 28,
   "id": "7c141689",
   "metadata": {},
   "outputs": [
    {
     "data": {
      "text/plain": [
       "27"
      ]
     },
     "execution_count": 28,
     "metadata": {},
     "output_type": "execute_result"
    }
   ],
   "source": [
    "3 ** x"
   ]
  },
  {
   "cell_type": "code",
   "execution_count": 29,
   "id": "4a0b79c8",
   "metadata": {},
   "outputs": [
    {
     "data": {
      "text/plain": [
       "7625597484987"
      ]
     },
     "execution_count": 29,
     "metadata": {},
     "output_type": "execute_result"
    }
   ],
   "source": [
    "x ** x ** x"
   ]
  },
  {
   "cell_type": "code",
   "execution_count": 30,
   "id": "462269d5",
   "metadata": {},
   "outputs": [
    {
     "name": "stdout",
     "output_type": "stream",
     "text": [
      "729\n"
     ]
    }
   ],
   "source": [
    "print(3**2 * 3**4)"
   ]
  },
  {
   "cell_type": "code",
   "execution_count": 31,
   "id": "a81b4a66",
   "metadata": {},
   "outputs": [
    {
     "data": {
      "text/plain": [
       "2.0"
      ]
     },
     "execution_count": 31,
     "metadata": {},
     "output_type": "execute_result"
    }
   ],
   "source": [
    "4**(1/2)"
   ]
  },
  {
   "cell_type": "code",
   "execution_count": 32,
   "id": "59d77299",
   "metadata": {},
   "outputs": [
    {
     "data": {
      "text/latex": [
       "$\\displaystyle 3^2\\times 3^4 = 3^{2+4}$"
      ],
      "text/plain": [
       "<IPython.core.display.Math object>"
      ]
     },
     "metadata": {},
     "output_type": "display_data"
    }
   ],
   "source": [
    "display(Math('3^2\\\\times 3^4 = 3^{2+4}'))"
   ]
  },
  {
   "cell_type": "code",
   "execution_count": 34,
   "id": "d9ba6462",
   "metadata": {},
   "outputs": [
    {
     "data": {
      "text/latex": [
       "$\\displaystyle \\frac{3^3}{x^y} = 0.00735558$"
      ],
      "text/plain": [
       "<IPython.core.display.Math object>"
      ]
     },
     "metadata": {},
     "output_type": "display_data"
    }
   ],
   "source": [
    "x = 5\n",
    "y = 5.1\n",
    "\n",
    "ans = (3**3) / (x**y)\n",
    "display(Math('\\\\frac{3^3}{x^y} = %g' %ans))"
   ]
  },
  {
   "cell_type": "markdown",
   "id": "3b03c017",
   "metadata": {},
   "source": [
    "FOR-LOOPS & EXPONENTS:"
   ]
  },
  {
   "cell_type": "code",
   "execution_count": 35,
   "id": "d1d08f17",
   "metadata": {},
   "outputs": [
    {
     "name": "stdout",
     "output_type": "stream",
     "text": [
      "0\n",
      "2\n",
      "4\n",
      "6\n"
     ]
    }
   ],
   "source": [
    "for i in [0,1,2,3]:\n",
    "    print(i*2)"
   ]
  },
  {
   "cell_type": "code",
   "execution_count": 36,
   "id": "009ba9da",
   "metadata": {},
   "outputs": [
    {
     "data": {
      "text/plain": [
       "[0, 1, 2]"
      ]
     },
     "execution_count": 36,
     "metadata": {},
     "output_type": "execute_result"
    }
   ],
   "source": [
    "list(range(0,3))"
   ]
  },
  {
   "cell_type": "code",
   "execution_count": 37,
   "id": "d5fb085a",
   "metadata": {},
   "outputs": [
    {
     "name": "stdout",
     "output_type": "stream",
     "text": [
      "This is the 0th iteration.\n",
      "This is the 1th iteration.\n",
      "This is the 2th iteration.\n"
     ]
    }
   ],
   "source": [
    "for qwerty in range(0,3):\n",
    "    print('This is the %gth iteration.' %qwerty)"
   ]
  },
  {
   "cell_type": "code",
   "execution_count": 41,
   "id": "3a165b65",
   "metadata": {},
   "outputs": [
    {
     "name": "stdout",
     "output_type": "stream",
     "text": [
      "0\n",
      "1\n",
      "4\n",
      "9\n",
      "16\n"
     ]
    }
   ],
   "source": [
    "for t in range(0,5):\n",
    "    num = t**2\n",
    "    print(num)"
   ]
  },
  {
   "cell_type": "code",
   "execution_count": 40,
   "id": "870a5cb8",
   "metadata": {},
   "outputs": [
    {
     "name": "stdout",
     "output_type": "stream",
     "text": [
      "2 to the power of 0 is 1\n",
      "2 to the power of 1 is 2\n",
      "2 to the power of 2 is 4\n",
      "2 to the power of 3 is 8\n",
      "2 to the power of 4 is 16\n",
      "2 to the power of 5 is 32\n",
      "2 to the power of 6 is 64\n",
      "2 to the power of 7 is 128\n",
      "2 to the power of 8 is 256\n",
      "2 to the power of 9 is 512\n"
     ]
    }
   ],
   "source": [
    "base = 2\n",
    "\n",
    "for i in range(0,10):\n",
    "    print('%g to the power of %g is %g' %(base,i,base**i))"
   ]
  },
  {
   "cell_type": "markdown",
   "id": "3bc41ddd",
   "metadata": {},
   "source": [
    "INEQUALITIES:"
   ]
  },
  {
   "cell_type": "code",
   "execution_count": 42,
   "id": "483cd58a",
   "metadata": {},
   "outputs": [
    {
     "data": {
      "text/plain": [
       "False"
      ]
     },
     "execution_count": 42,
     "metadata": {},
     "output_type": "execute_result"
    }
   ],
   "source": [
    "4 > 5"
   ]
  },
  {
   "cell_type": "code",
   "execution_count": 43,
   "id": "3ab8ccf2",
   "metadata": {},
   "outputs": [
    {
     "data": {
      "text/plain": [
       "True"
      ]
     },
     "execution_count": 43,
     "metadata": {},
     "output_type": "execute_result"
    }
   ],
   "source": [
    "4<=3+2"
   ]
  },
  {
   "cell_type": "code",
   "execution_count": 44,
   "id": "7ff22496",
   "metadata": {},
   "outputs": [
    {
     "data": {
      "text/plain": [
       "True"
      ]
     },
     "execution_count": 44,
     "metadata": {},
     "output_type": "execute_result"
    }
   ],
   "source": [
    "4==2+2"
   ]
  },
  {
   "cell_type": "markdown",
   "id": "28c68ea3",
   "metadata": {},
   "source": [
    "IF STATEMENTS:"
   ]
  },
  {
   "cell_type": "code",
   "execution_count": 45,
   "id": "931334bc",
   "metadata": {},
   "outputs": [
    {
     "name": "stdout",
     "output_type": "stream",
     "text": [
      "true\n"
     ]
    }
   ],
   "source": [
    "if 4+2==6:\n",
    "    print('true')\n",
    "else:\n",
    "    print('false')"
   ]
  },
  {
   "cell_type": "code",
   "execution_count": 46,
   "id": "2c93994c",
   "metadata": {},
   "outputs": [
    {
     "name": "stdout",
     "output_type": "stream",
     "text": [
      "5 is greater than 4\n"
     ]
    }
   ],
   "source": [
    "x1 = 5\n",
    "x2 = 4\n",
    "\n",
    "if x1>x2:\n",
    "    print('%g is greater than %g' %(x1,x2))\n",
    "elif x1<x2:\n",
    "    print('%g is greater than %g' %(x2,x1))\n",
    "else:\n",
    "    print('%g is equal to %g' %(x1,x2))"
   ]
  },
  {
   "cell_type": "code",
   "execution_count": 47,
   "id": "d44a3ab4",
   "metadata": {},
   "outputs": [],
   "source": [
    "from IPython.display import display,Math"
   ]
  },
  {
   "cell_type": "code",
   "execution_count": 50,
   "id": "43bbfbc8",
   "metadata": {},
   "outputs": [
    {
     "data": {
      "text/latex": [
       "$\\displaystyle 1^{-1} = 1$"
      ],
      "text/plain": [
       "<IPython.core.display.Math object>"
      ]
     },
     "metadata": {},
     "output_type": "display_data"
    },
    {
     "data": {
      "text/latex": [
       "$\\displaystyle 1^{-2} = 1$"
      ],
      "text/plain": [
       "<IPython.core.display.Math object>"
      ]
     },
     "metadata": {},
     "output_type": "display_data"
    },
    {
     "data": {
      "text/latex": [
       "$\\displaystyle 1^{-3} = 1$"
      ],
      "text/plain": [
       "<IPython.core.display.Math object>"
      ]
     },
     "metadata": {},
     "output_type": "display_data"
    },
    {
     "data": {
      "text/latex": [
       "$\\displaystyle 1^{-4} = 1$"
      ],
      "text/plain": [
       "<IPython.core.display.Math object>"
      ]
     },
     "metadata": {},
     "output_type": "display_data"
    },
    {
     "data": {
      "text/latex": [
       "$\\displaystyle 2^{-1} = 0.5$"
      ],
      "text/plain": [
       "<IPython.core.display.Math object>"
      ]
     },
     "metadata": {},
     "output_type": "display_data"
    },
    {
     "data": {
      "text/latex": [
       "$\\displaystyle 2^{-2} = 0.25$"
      ],
      "text/plain": [
       "<IPython.core.display.Math object>"
      ]
     },
     "metadata": {},
     "output_type": "display_data"
    },
    {
     "data": {
      "text/latex": [
       "$\\displaystyle 2^{-3} = 0.125$"
      ],
      "text/plain": [
       "<IPython.core.display.Math object>"
      ]
     },
     "metadata": {},
     "output_type": "display_data"
    },
    {
     "data": {
      "text/latex": [
       "$\\displaystyle 2^{-4} = 0.0625$"
      ],
      "text/plain": [
       "<IPython.core.display.Math object>"
      ]
     },
     "metadata": {},
     "output_type": "display_data"
    },
    {
     "data": {
      "text/latex": [
       "$\\displaystyle 3^{-1} = 0.333333$"
      ],
      "text/plain": [
       "<IPython.core.display.Math object>"
      ]
     },
     "metadata": {},
     "output_type": "display_data"
    },
    {
     "data": {
      "text/latex": [
       "$\\displaystyle 3^{-2} = 0.111111$"
      ],
      "text/plain": [
       "<IPython.core.display.Math object>"
      ]
     },
     "metadata": {},
     "output_type": "display_data"
    },
    {
     "data": {
      "text/latex": [
       "$\\displaystyle 3^{-3} = 0.037037$"
      ],
      "text/plain": [
       "<IPython.core.display.Math object>"
      ]
     },
     "metadata": {},
     "output_type": "display_data"
    },
    {
     "data": {
      "text/latex": [
       "$\\displaystyle 3^{-4} = 0.0123457$"
      ],
      "text/plain": [
       "<IPython.core.display.Math object>"
      ]
     },
     "metadata": {},
     "output_type": "display_data"
    }
   ],
   "source": [
    "# remember that ^ is for laTeX and ** is for python\n",
    "\n",
    "for i in range(0,4):\n",
    "    for j in range(0,5):\n",
    "        if i>0 and j>0:\n",
    "            display(Math('%g^{-%g} = %g' %(i,j,i**-j)))"
   ]
  },
  {
   "cell_type": "markdown",
   "id": "96214acf",
   "metadata": {},
   "source": [
    "ABSOLUTE VALUE:"
   ]
  },
  {
   "cell_type": "code",
   "execution_count": 51,
   "id": "70ef0368",
   "metadata": {},
   "outputs": [
    {
     "data": {
      "text/plain": [
       "(-4, 4)"
      ]
     },
     "execution_count": 51,
     "metadata": {},
     "output_type": "execute_result"
    }
   ],
   "source": [
    "a = -4\n",
    "b = abs(a)\n",
    "a,b"
   ]
  },
  {
   "cell_type": "code",
   "execution_count": 53,
   "id": "3fed4dde",
   "metadata": {},
   "outputs": [
    {
     "data": {
      "text/latex": [
       "$\\displaystyle |-4.3| = 4.3$"
      ],
      "text/plain": [
       "<IPython.core.display.Math object>"
      ]
     },
     "metadata": {},
     "output_type": "display_data"
    }
   ],
   "source": [
    "x = -4.3\n",
    "\n",
    "display(Math('|%g| = %g' %(x,abs(x))))"
   ]
  },
  {
   "cell_type": "code",
   "execution_count": 55,
   "id": "ed1516d6",
   "metadata": {},
   "outputs": [
    {
     "name": "stdout",
     "output_type": "stream",
     "text": [
      "-4 was not tested.\n",
      "Absolute value of 6 is 6.\n",
      "-1 was not tested.\n",
      "Absolute value of 43 is 43.\n",
      "Absolute value of -18 is 18.\n",
      "2 was not tested.\n",
      "0 was not tested.\n"
     ]
    }
   ],
   "source": [
    "numbers = [-4,6,-1,43,-18,2,0]\n",
    "\n",
    "#for-loop\n",
    "for numi in numbers:\n",
    "    if numi<-5 or numi>2:\n",
    "        print('Absolute value of %g is %g.' %(numi,abs(numi)))\n",
    "    else:\n",
    "        print(str(numi) + ' was not tested.')"
   ]
  },
  {
   "cell_type": "markdown",
   "id": "198a7f7a",
   "metadata": {},
   "source": [
    "REMAINDER AFTER DIVISION:"
   ]
  },
  {
   "cell_type": "code",
   "execution_count": 58,
   "id": "b2fd16f4",
   "metadata": {},
   "outputs": [
    {
     "data": {
      "text/plain": [
       "3"
      ]
     },
     "execution_count": 58,
     "metadata": {},
     "output_type": "execute_result"
    }
   ],
   "source": [
    "a = 10\n",
    "b = 3\n",
    "\n",
    "#int division\n",
    "int(a/b)\n",
    "\n",
    "# shift+tab for help files"
   ]
  },
  {
   "cell_type": "code",
   "execution_count": 59,
   "id": "6424fb73",
   "metadata": {},
   "outputs": [
    {
     "data": {
      "text/plain": [
       "1"
      ]
     },
     "execution_count": 59,
     "metadata": {},
     "output_type": "execute_result"
    }
   ],
   "source": [
    "a%b"
   ]
  },
  {
   "cell_type": "code",
   "execution_count": 60,
   "id": "823f99ba",
   "metadata": {},
   "outputs": [
    {
     "name": "stdout",
     "output_type": "stream",
     "text": [
      "3 goes into 10, 3 times with a remainder of 1.\n"
     ]
    }
   ],
   "source": [
    "divis = int(a/b)\n",
    "remainder = a%b\n",
    "\n",
    "print('%g goes into %g, %g times with a remainder of %g.' %(b,a,divis,remainder))"
   ]
  },
  {
   "cell_type": "code",
   "execution_count": 61,
   "id": "cf18cdb0",
   "metadata": {},
   "outputs": [
    {
     "name": "stdout",
     "output_type": "stream",
     "text": [
      "-5 is an odd number\n",
      "-4 is an even number\n",
      "-3 is an odd number\n",
      "-2 is an even number\n",
      "-1 is an odd number\n",
      "0 is an even number\n",
      "1 is an odd number\n",
      "2 is an even number\n",
      "3 is an odd number\n",
      "4 is an even number\n",
      "5 is an odd number\n"
     ]
    }
   ],
   "source": [
    "nums = range(-5,6)\n",
    "\n",
    "for i in nums:\n",
    "    \n",
    "    #test\n",
    "    if i%2 == 0:\n",
    "        print('%g is an even number' %i)\n",
    "    else:\n",
    "        print('%g is an odd number' %i)"
   ]
  },
  {
   "cell_type": "markdown",
   "id": "e75482c2",
   "metadata": {},
   "source": [
    "INTERACTIVE FUNCTIONS:"
   ]
  },
  {
   "cell_type": "code",
   "execution_count": 65,
   "id": "ecdb3e4c",
   "metadata": {},
   "outputs": [],
   "source": [
    "def myfunction(name):\n",
    "    print('Hello %s.' %name)"
   ]
  },
  {
   "cell_type": "code",
   "execution_count": 66,
   "id": "a6ebbf70",
   "metadata": {},
   "outputs": [
    {
     "name": "stdout",
     "output_type": "stream",
     "text": [
      "Hello Mike.\n"
     ]
    }
   ],
   "source": [
    "myfunction('Mike')"
   ]
  },
  {
   "cell_type": "code",
   "execution_count": 67,
   "id": "c577d7dc",
   "metadata": {},
   "outputs": [],
   "source": [
    "def computeremainder(x,y):\n",
    "    divis = int(x/y)\n",
    "    remainder = x%y\n",
    "    \n",
    "    print('%g goes into %g, %g times with a remainder of %g' %(y,x,divis,remainder))"
   ]
  },
  {
   "cell_type": "code",
   "execution_count": 68,
   "id": "b485d915",
   "metadata": {},
   "outputs": [
    {
     "name": "stdout",
     "output_type": "stream",
     "text": [
      "6 goes into 100, 16 times with a remainder of 4\n"
     ]
    }
   ],
   "source": [
    "computeremainder(100,6)"
   ]
  },
  {
   "cell_type": "code",
   "execution_count": 69,
   "id": "c1a01383",
   "metadata": {},
   "outputs": [],
   "source": [
    "def divisionWithInput():\n",
    "    \n",
    "    x = int(input('Input value for x.'))\n",
    "    y = int(input('Input value for y.'))\n",
    "    \n",
    "    divis = int(x/y)\n",
    "    remainder = x%y\n",
    "    \n",
    "    print('%g goes into %g, %g times with a remainder of %g' %(y,x,divis,remainder))"
   ]
  },
  {
   "cell_type": "code",
   "execution_count": 70,
   "id": "2c914417",
   "metadata": {},
   "outputs": [
    {
     "name": "stdout",
     "output_type": "stream",
     "text": [
      "Input value for x.4\n",
      "Input value for y.2\n",
      "2 goes into 4, 2 times with a remainder of 0\n"
     ]
    }
   ],
   "source": [
    "divisionWithInput()"
   ]
  },
  {
   "cell_type": "markdown",
   "id": "3c56c19d",
   "metadata": {},
   "source": [
    "FUNCTIONS p.2:"
   ]
  },
  {
   "cell_type": "code",
   "execution_count": 76,
   "id": "462d7cc7",
   "metadata": {},
   "outputs": [],
   "source": [
    "#create functions\n",
    "\n",
    "def powers(x,y):\n",
    "    display(Math('%g^{%g} = %g' %(x,y,x**y)))\n",
    "    \n",
    "def division(x,y):\n",
    "    display(Math('\\\\frac{%g}{%g} = %g' %(x,y,x/y)))\n",
    "    \n",
    "def mainfunction():\n",
    "    #get input\n",
    "    x = float(input('Input X: '))\n",
    "    y = float(input('Input Y: '))\n",
    "    \n",
    "    display(Math('\\\\text{Press \"1\" to compute }%g^{%g}\\\\text{ or press \"2\" to compute}\\\\frac{%g}{%g}' %(x,y,x,y)))\n",
    "    switch = input(' ')\n",
    "    \n",
    "    if switch=='1':\n",
    "        powers(x,y)\n",
    "    elif switch=='2':\n",
    "        division(x,y)\n",
    "    else:\n",
    "        print('Invalid!')"
   ]
  },
  {
   "cell_type": "code",
   "execution_count": 72,
   "id": "cc6e785b",
   "metadata": {},
   "outputs": [
    {
     "data": {
      "text/latex": [
       "$\\displaystyle 2^{4} = 16$"
      ],
      "text/plain": [
       "<IPython.core.display.Math object>"
      ]
     },
     "metadata": {},
     "output_type": "display_data"
    }
   ],
   "source": [
    "powers(2,4)"
   ]
  },
  {
   "cell_type": "code",
   "execution_count": 74,
   "id": "12d7e9b1",
   "metadata": {},
   "outputs": [
    {
     "data": {
      "text/latex": [
       "$\\displaystyle \\frac{4}{1} = 4$"
      ],
      "text/plain": [
       "<IPython.core.display.Math object>"
      ]
     },
     "metadata": {},
     "output_type": "display_data"
    }
   ],
   "source": [
    "division(4,1)"
   ]
  },
  {
   "cell_type": "code",
   "execution_count": 77,
   "id": "456d9792",
   "metadata": {},
   "outputs": [
    {
     "name": "stdout",
     "output_type": "stream",
     "text": [
      "Input X: 4\n",
      "Input Y: 4\n"
     ]
    },
    {
     "data": {
      "text/latex": [
       "$\\displaystyle \\text{Press \"1\" to compute }4^{4}\\text{ or press \"2\" to compute}\\frac{4}{4}$"
      ],
      "text/plain": [
       "<IPython.core.display.Math object>"
      ]
     },
     "metadata": {},
     "output_type": "display_data"
    },
    {
     "name": "stdout",
     "output_type": "stream",
     "text": [
      " 1\n"
     ]
    },
    {
     "data": {
      "text/latex": [
       "$\\displaystyle 4^{4} = 256$"
      ],
      "text/plain": [
       "<IPython.core.display.Math object>"
      ]
     },
     "metadata": {},
     "output_type": "display_data"
    }
   ],
   "source": [
    "mainfunction()"
   ]
  },
  {
   "cell_type": "markdown",
   "id": "e4536ca5",
   "metadata": {},
   "source": [
    "### FUNCTIONS p.3:"
   ]
  },
  {
   "cell_type": "code",
   "execution_count": 79,
   "id": "a51911a5",
   "metadata": {},
   "outputs": [],
   "source": [
    "from numpy import random\n",
    "\n",
    "# function definition\n",
    "def guessTheNumber():\n",
    "    \n",
    "    #generate random int\n",
    "    num2guess = random.randint(1,101)\n",
    "    \n",
    "    #ask for a guess\n",
    "    userguess = int(input('Guess a number between 1 and 100: '))\n",
    "    \n",
    "    #check whether the number is a match\n",
    "    while userguess !=num2guess:\n",
    "        \n",
    "        #print message and ask for new guess\n",
    "        if userguess<num2guess:\n",
    "            print('Guess higher!')\n",
    "        elif userguess>num2guess:\n",
    "            print('Guess lower!')\n",
    "            \n",
    "        userguess = int(input('Guess again: '))\n",
    "        \n",
    "    # if the guess is correct\n",
    "    print('YES!! You guessed correctly!')"
   ]
  },
  {
   "cell_type": "code",
   "execution_count": 80,
   "id": "bc7a7b49",
   "metadata": {},
   "outputs": [
    {
     "name": "stdout",
     "output_type": "stream",
     "text": [
      "Guess a number between 1 and 100: 40\n",
      "Guess lower!\n",
      "Guess again: 29\n",
      "Guess higher!\n",
      "Guess again: 35\n",
      "Guess lower!\n",
      "Guess again: 33\n",
      "Guess lower!\n",
      "Guess again: 32\n",
      "YES!! You guessed correctly!\n"
     ]
    }
   ],
   "source": [
    "guessTheNumber()"
   ]
  },
  {
   "cell_type": "markdown",
   "id": "7c214e42",
   "metadata": {},
   "source": [
    "### SYMPY AND LATEX:"
   ]
  },
  {
   "cell_type": "code",
   "execution_count": 98,
   "id": "04de2e73",
   "metadata": {},
   "outputs": [],
   "source": [
    "import sympy as sym\n",
    "sym.init_printing()\n",
    "from IPython.display import display,Math\n",
    "import numpy as np"
   ]
  },
  {
   "cell_type": "code",
   "execution_count": 84,
   "id": "1867fd89",
   "metadata": {},
   "outputs": [
    {
     "data": {
      "image/png": "[encoded data removed]",
      "text/latex": [
       "$\\displaystyle x$"
      ],
      "text/plain": [
       "x"
      ]
     },
     "execution_count": 84,
     "metadata": {},
     "output_type": "execute_result"
    }
   ],
   "source": [
    "x,y = sym.symbols('x,y')\n",
    "x"
   ]
  },
  {
   "cell_type": "code",
   "execution_count": 86,
   "id": "f58d8ca1",
   "metadata": {},
   "outputs": [
    {
     "data": {
      "image/png": "[encoded data removed]",
      "text/latex": [
       "$\\displaystyle x^{y}$"
      ],
      "text/plain": [
       " y\n",
       "x "
      ]
     },
     "metadata": {},
     "output_type": "display_data"
    }
   ],
   "source": [
    "display(x**y)"
   ]
  },
  {
   "cell_type": "code",
   "execution_count": 87,
   "id": "4fdbbfbf",
   "metadata": {},
   "outputs": [
    {
     "data": {
      "image/png": "[encoded data removed]",
      "text/latex": [
       "$\\displaystyle \\frac{x}{y}$"
      ],
      "text/plain": [
       "x\n",
       "─\n",
       "y"
      ]
     },
     "metadata": {},
     "output_type": "display_data"
    }
   ],
   "source": [
    "display(x/y)"
   ]
  },
  {
   "cell_type": "code",
   "execution_count": 90,
   "id": "9a97c26e",
   "metadata": {},
   "outputs": [
    {
     "data": {
      "image/png": "[encoded data removed]",
      "text/latex": [
       "$\\displaystyle 1.4142135623731$"
      ],
      "text/plain": [
       "1.4142135623730951"
      ]
     },
     "metadata": {},
     "output_type": "display_data"
    },
    {
     "data": {
      "image/png": "[encoded data removed]",
      "text/latex": [
       "$\\displaystyle \\sqrt{2}$"
      ],
      "text/plain": [
       "√2"
      ]
     },
     "metadata": {},
     "output_type": "display_data"
    }
   ],
   "source": [
    "display(np.sqrt(2))\n",
    "display(sym.sqrt(2))"
   ]
  },
  {
   "cell_type": "code",
   "execution_count": 92,
   "id": "155563d3",
   "metadata": {},
   "outputs": [
    {
     "data": {
      "text/latex": [
       "$\\displaystyle \\sigma = \\mu \\times \\sqrt{5}$"
      ],
      "text/plain": [
       "<IPython.core.display.Math object>"
      ]
     },
     "metadata": {},
     "output_type": "display_data"
    }
   ],
   "source": [
    "display(Math('\\\\sigma = \\\\mu \\\\times \\\\sqrt{5}'))"
   ]
  },
  {
   "cell_type": "code",
   "execution_count": 95,
   "id": "0f623a4f",
   "metadata": {},
   "outputs": [
    {
     "data": {
      "text/latex": [
       "$\\displaystyle x_{ms} + y^{dk}$"
      ],
      "text/plain": [
       "<IPython.core.display.Math object>"
      ]
     },
     "metadata": {},
     "output_type": "display_data"
    }
   ],
   "source": [
    "display(Math('x_{ms} + y^{dk}'))"
   ]
  },
  {
   "cell_type": "code",
   "execution_count": 96,
   "id": "4fb1c8a5",
   "metadata": {},
   "outputs": [
    {
     "data": {
      "text/latex": [
       "$\\displaystyle \\sqrt{x}\\sqrt{x}$"
      ],
      "text/plain": [
       "<IPython.core.display.Math object>"
      ]
     },
     "metadata": {},
     "output_type": "display_data"
    }
   ],
   "source": [
    "display(Math('\\\\sqrt{x}\\\\sqrt{x}'))"
   ]
  },
  {
   "cell_type": "markdown",
   "id": "1c39f039",
   "metadata": {},
   "source": [
    "Same in markdown:\n",
    "$\\sqrt{x}\\sqrt{x}$"
   ]
  },
  {
   "cell_type": "code",
   "execution_count": 97,
   "id": "ea2c29ee",
   "metadata": {},
   "outputs": [
    {
     "data": {
      "text/latex": [
       "$\\displaystyle \\sin(2\\pi f t + \\theta)$"
      ],
      "text/plain": [
       "<IPython.core.display.Math object>"
      ]
     },
     "metadata": {},
     "output_type": "display_data"
    }
   ],
   "source": [
    "display(Math('\\\\sin(2\\\\pi f t + \\\\theta)'))"
   ]
  },
  {
   "cell_type": "code",
   "execution_count": 99,
   "id": "67ea6ed4",
   "metadata": {},
   "outputs": [],
   "source": [
    "mu,alpha,sigma = sym.symbols('mu,alpha,sigma')"
   ]
  },
  {
   "cell_type": "code",
   "execution_count": 101,
   "id": "28531916",
   "metadata": {},
   "outputs": [
    {
     "data": {
      "image/png": "[encoded data removed]",
      "text/latex": [
       "$\\displaystyle e^{\\frac{\\left(- \\alpha + \\mu\\right)^{2}}{2 \\sigma^{2}}}$"
      ],
      "text/plain": [
       "         2\n",
       " (-α + μ) \n",
       " ─────────\n",
       "       2  \n",
       "    2⋅σ   \n",
       "ℯ         "
      ]
     },
     "metadata": {},
     "output_type": "display_data"
    }
   ],
   "source": [
    "expr = sym.exp((mu-alpha)**2 / (2*sigma**2))\n",
    "display(expr)"
   ]
  },
  {
   "cell_type": "code",
   "execution_count": 102,
   "id": "553fae2a",
   "metadata": {},
   "outputs": [
    {
     "data": {
      "image/png": "[encoded data removed]",
      "text/latex": [
       "$\\displaystyle 10$"
      ],
      "text/plain": [
       "10"
      ]
     },
     "execution_count": 102,
     "metadata": {},
     "output_type": "execute_result"
    }
   ],
   "source": [
    "x = sym.symbols('x')\n",
    "expr = x+4\n",
    "expr.subs(x,6)"
   ]
  },
  {
   "cell_type": "code",
   "execution_count": 103,
   "id": "222b9ea0",
   "metadata": {},
   "outputs": [
    {
     "data": {
      "image/png": "[encoded data removed]",
      "text/latex": [
       "$\\displaystyle 6$"
      ],
      "text/plain": [
       "6"
      ]
     },
     "execution_count": 103,
     "metadata": {},
     "output_type": "execute_result"
    }
   ],
   "source": [
    "x,y = sym.symbols('x,y')\n",
    "expr = x+4+2*y\n",
    "expr.subs({x:-4,y:3})\n",
    "#dictionary?"
   ]
  },
  {
   "cell_type": "code",
   "execution_count": 106,
   "id": "e7022721",
   "metadata": {},
   "outputs": [
    {
     "data": {
      "text/plain": [
       "'\\\\frac{3}{x}'"
      ]
     },
     "execution_count": 106,
     "metadata": {},
     "output_type": "execute_result"
    }
   ],
   "source": [
    "expr = 3/x\n",
    "sym.latex(expr)"
   ]
  },
  {
   "cell_type": "code",
   "execution_count": 107,
   "id": "65be32d6",
   "metadata": {},
   "outputs": [
    {
     "data": {
      "text/latex": [
       "$\\displaystyle \\frac{3}{x}$"
      ],
      "text/plain": [
       "<IPython.core.display.Math object>"
      ]
     },
     "metadata": {},
     "output_type": "display_data"
    }
   ],
   "source": [
    "expr = 3/x\n",
    "display(Math(sym.latex(expr)))"
   ]
  },
  {
   "cell_type": "code",
   "execution_count": 108,
   "id": "5424416c",
   "metadata": {},
   "outputs": [
    {
     "data": {
      "text/plain": [
       "'\\\\frac{3}{4}'"
      ]
     },
     "execution_count": 108,
     "metadata": {},
     "output_type": "execute_result"
    }
   ],
   "source": [
    "sym.latex(sym.sympify('3/4'))"
   ]
  },
  {
   "cell_type": "code",
   "execution_count": 110,
   "id": "96e8084c",
   "metadata": {},
   "outputs": [
    {
     "data": {
      "text/latex": [
       "$\\displaystyle \\text{With }x=-2, x^2+4 \\quad \\Rightarrow \\quad -2^2+4 = 8$"
      ],
      "text/plain": [
       "<IPython.core.display.Math object>"
      ]
     },
     "metadata": {},
     "output_type": "display_data"
    },
    {
     "data": {
      "text/latex": [
       "$\\displaystyle \\text{With }x=-1, x^2+4 \\quad \\Rightarrow \\quad -1^2+4 = 5$"
      ],
      "text/plain": [
       "<IPython.core.display.Math object>"
      ]
     },
     "metadata": {},
     "output_type": "display_data"
    },
    {
     "data": {
      "text/latex": [
       "$\\displaystyle \\text{With }x=0, x^2+4 \\quad \\Rightarrow \\quad 0^2+4 = 4$"
      ],
      "text/plain": [
       "<IPython.core.display.Math object>"
      ]
     },
     "metadata": {},
     "output_type": "display_data"
    },
    {
     "data": {
      "text/latex": [
       "$\\displaystyle \\text{With }x=1, x^2+4 \\quad \\Rightarrow \\quad 1^2+4 = 5$"
      ],
      "text/plain": [
       "<IPython.core.display.Math object>"
      ]
     },
     "metadata": {},
     "output_type": "display_data"
    },
    {
     "data": {
      "text/latex": [
       "$\\displaystyle \\text{With }x=2, x^2+4 \\quad \\Rightarrow \\quad 2^2+4 = 8$"
      ],
      "text/plain": [
       "<IPython.core.display.Math object>"
      ]
     },
     "metadata": {},
     "output_type": "display_data"
    }
   ],
   "source": [
    "for i in range(-2,3):\n",
    "    ans = (x+4).subs(x,i**2)\n",
    "    display(Math( '\\\\text{With }x=%g, x^2+4 \\\\quad \\\\Rightarrow \\\\quad %g^2+4 = %g' %(i,i,ans) ))"
   ]
  },
  {
   "cell_type": "code",
   "execution_count": 112,
   "id": "3a8a2da2",
   "metadata": {},
   "outputs": [
    {
     "name": "stdout",
     "output_type": "stream",
     "text": [
      "Hi my name is Mike and I eat 7 chocolates every day!!\n"
     ]
    }
   ],
   "source": [
    "# f strings\n",
    "\n",
    "svar = 'Mike'\n",
    "nvar = 7\n",
    "\n",
    "print(f'Hi my name is {svar} and I eat {nvar} chocolates every day!!')"
   ]
  },
  {
   "cell_type": "markdown",
   "id": "6bcbc177",
   "metadata": {},
   "source": [
    "### SYMPY WITH LAW OF EXPONENTS:"
   ]
  },
  {
   "cell_type": "code",
   "execution_count": 114,
   "id": "9fa0e139",
   "metadata": {},
   "outputs": [
    {
     "data": {
      "image/png": "[encoded data removed]",
      "text/latex": [
       "$\\displaystyle x^{y} x^{z}$"
      ],
      "text/plain": [
       " y  z\n",
       "x ⋅x "
      ]
     },
     "metadata": {},
     "output_type": "display_data"
    },
    {
     "data": {
      "image/png": "[encoded data removed]",
      "text/latex": [
       "$\\displaystyle x^{y + z}$"
      ],
      "text/plain": [
       " y + z\n",
       "x     "
      ]
     },
     "metadata": {},
     "output_type": "display_data"
    }
   ],
   "source": [
    "x,y,z = sym.symbols('x,y,z')\n",
    "\n",
    "ex = x**y * x**z\n",
    "\n",
    "display(ex)\n",
    "display(sym.simplify(ex))"
   ]
  },
  {
   "cell_type": "code",
   "execution_count": 117,
   "id": "ebdb32c9",
   "metadata": {},
   "outputs": [
    {
     "data": {
      "text/latex": [
       "$\\displaystyle x^{y} x^{z} = x^{y + z}$"
      ],
      "text/plain": [
       "<IPython.core.display.Math object>"
      ]
     },
     "metadata": {},
     "output_type": "display_data"
    },
    {
     "data": {
      "text/latex": [
       "$\\displaystyle x^{y} x^{z} = x^{y - z}$"
      ],
      "text/plain": [
       "<IPython.core.display.Math object>"
      ]
     },
     "metadata": {},
     "output_type": "display_data"
    },
    {
     "data": {
      "text/latex": [
       "$\\displaystyle x^{y} x^{z} = x^{y} y^{z}$"
      ],
      "text/plain": [
       "<IPython.core.display.Math object>"
      ]
     },
     "metadata": {},
     "output_type": "display_data"
    }
   ],
   "source": [
    "ex1 = x**y * x**z\n",
    "ex2 = x**y / x**z\n",
    "ex3 = x**y * y**z\n",
    "\n",
    "display(Math('%s = %s' %(sym.latex(ex1),sym.latex(sym.simplify(ex1)))))\n",
    "display(Math('%s = %s' %(sym.latex(ex1),sym.latex(sym.simplify(ex2)))))\n",
    "display(Math('%s = %s' %(sym.latex(ex1),sym.latex(sym.simplify(ex3)))))"
   ]
  },
  {
   "cell_type": "code",
   "execution_count": 119,
   "id": "6c498404",
   "metadata": {},
   "outputs": [
    {
     "data": {
      "text/latex": [
       "$\\displaystyle \\text{True}$"
      ],
      "text/plain": [
       "True"
      ]
     },
     "execution_count": 119,
     "metadata": {},
     "output_type": "execute_result"
    }
   ],
   "source": [
    "sym.Eq(4,2+2)"
   ]
  },
  {
   "cell_type": "markdown",
   "id": "63fb0b4a",
   "metadata": {},
   "source": [
    "### Lists and Numpy Arrays"
   ]
  },
  {
   "cell_type": "code",
   "execution_count": null,
   "id": "af781efd",
   "metadata": {},
   "outputs": [],
   "source": []
  }
 ],
 "metadata": {
  "kernelspec": {
   "display_name": "Python 3 (ipykernel)",
   "language": "python",
   "name": "python3"
  },
  "language_info": {
   "codemirror_mode": {
    "name": "ipython",
    "version": 3
   },
   "file_extension": ".py",
   "mimetype": "text/x-python",
   "name": "python",
   "nbconvert_exporter": "python",
   "pygments_lexer": "ipython3",
   "version": "3.10.9"
  }
 },
 "nbformat": 4,
 "nbformat_minor": 5
}
