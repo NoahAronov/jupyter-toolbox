{
 "cells": [
  {
   "cell_type": "markdown",
   "id": "9b64916f",
   "metadata": {},
   "source": [
    "# Computational Mathematics"
   ]
  },
  {
   "cell_type": "markdown",
   "id": "e3bc2c9a",
   "metadata": {},
   "source": [
    "https://wgu.udemy.com/course/math-with-python/"
   ]
  },
  {
   "cell_type": "markdown",
   "id": "7a2a30ba",
   "metadata": {},
   "source": [
    "# Arithmetic"
   ]
  },
  {
   "cell_type": "markdown",
   "id": "c11763b2",
   "metadata": {},
   "source": [
    "ADD, SUBTRACT, MULTIPLY, DIVIDE:"
   ]
  },
  {
   "cell_type": "code",
   "execution_count": null,
   "id": "81c8a246",
   "metadata": {},
   "outputs": [],
   "source": [
    "4+8"
   ]
  },
  {
   "cell_type": "code",
   "execution_count": null,
   "id": "019f1454",
   "metadata": {},
   "outputs": [],
   "source": [
    "4 + 8"
   ]
  },
  {
   "cell_type": "code",
   "execution_count": null,
   "id": "1f707f96",
   "metadata": {},
   "outputs": [],
   "source": [
    "5 - 3"
   ]
  },
  {
   "cell_type": "code",
   "execution_count": null,
   "id": "2197f045",
   "metadata": {},
   "outputs": [],
   "source": [
    "3 * 4"
   ]
  },
  {
   "cell_type": "code",
   "execution_count": null,
   "id": "8ee7e85e",
   "metadata": {},
   "outputs": [],
   "source": [
    "3 / 4"
   ]
  },
  {
   "cell_type": "markdown",
   "id": "9930b303",
   "metadata": {},
   "source": [
    "VARIABLES:"
   ]
  },
  {
   "cell_type": "code",
   "execution_count": 1,
   "id": "edcb43bb",
   "metadata": {},
   "outputs": [
    {
     "data": {
      "text/plain": [
       "7"
      ]
     },
     "execution_count": 1,
     "metadata": {},
     "output_type": "execute_result"
    }
   ],
   "source": [
    "x = 7\n",
    "x"
   ]
  },
  {
   "cell_type": "code",
   "execution_count": 2,
   "id": "e95506ad",
   "metadata": {},
   "outputs": [
    {
     "data": {
      "text/plain": [
       "5"
      ]
     },
     "execution_count": 2,
     "metadata": {},
     "output_type": "execute_result"
    }
   ],
   "source": [
    "x - 2"
   ]
  },
  {
   "cell_type": "code",
   "execution_count": 3,
   "id": "4da19c9a",
   "metadata": {},
   "outputs": [
    {
     "data": {
      "text/plain": [
       "10"
      ]
     },
     "execution_count": 3,
     "metadata": {},
     "output_type": "execute_result"
    }
   ],
   "source": [
    "x = 10\n",
    "x"
   ]
  },
  {
   "cell_type": "code",
   "execution_count": 5,
   "id": "f1c1463c",
   "metadata": {},
   "outputs": [
    {
     "data": {
      "text/plain": [
       "-10"
      ]
     },
     "execution_count": 5,
     "metadata": {},
     "output_type": "execute_result"
    }
   ],
   "source": [
    "x = x - 2*5\n",
    "x"
   ]
  },
  {
   "cell_type": "code",
   "execution_count": 7,
   "id": "8df1ed60",
   "metadata": {},
   "outputs": [
    {
     "name": "stdout",
     "output_type": "stream",
     "text": [
      "630\n"
     ]
    }
   ],
   "source": [
    "x = 10\n",
    "y = 20\n",
    "z = 31\n",
    "\n",
    "print(x + y * z)"
   ]
  },
  {
   "cell_type": "markdown",
   "id": "df6d37b2",
   "metadata": {},
   "source": [
    "PRINTING EQUATIONS IN JUPYTER:"
   ]
  },
  {
   "cell_type": "code",
   "execution_count": 8,
   "id": "1a329b01",
   "metadata": {},
   "outputs": [
    {
     "data": {
      "text/plain": [
       "'4 + 3 -7'"
      ]
     },
     "metadata": {},
     "output_type": "display_data"
    }
   ],
   "source": [
    "from IPython.display import display, Math\n",
    "display('4 + 3 -7')"
   ]
  },
  {
   "cell_type": "code",
   "execution_count": 9,
   "id": "c8f8760d",
   "metadata": {},
   "outputs": [
    {
     "data": {
      "text/plain": [
       "'4 + 3 = 7'"
      ]
     },
     "metadata": {},
     "output_type": "display_data"
    }
   ],
   "source": [
    "display('4 + 3 = ' + str(4 + 3))"
   ]
  },
  {
   "cell_type": "code",
   "execution_count": 10,
   "id": "0c39e41b",
   "metadata": {},
   "outputs": [
    {
     "data": {
      "text/latex": [
       "$\\displaystyle 4+3=7$"
      ],
      "text/plain": [
       "<IPython.core.display.Math object>"
      ]
     },
     "metadata": {},
     "output_type": "display_data"
    }
   ],
   "source": [
    "display(Math(\"4+3=7\"))"
   ]
  },
  {
   "cell_type": "code",
   "execution_count": 11,
   "id": "fa50d037",
   "metadata": {},
   "outputs": [
    {
     "data": {
      "text/latex": [
       "$\\displaystyle 4 + 5 = 9$"
      ],
      "text/plain": [
       "<IPython.core.display.Math object>"
      ]
     },
     "metadata": {},
     "output_type": "display_data"
    }
   ],
   "source": [
    "x = 4\n",
    "y = 5\n",
    "\n",
    "display(Math(str(x) + ' + ' + str(y) + ' = ' + str(x+y)))"
   ]
  },
  {
   "cell_type": "code",
   "execution_count": 13,
   "id": "3dc79621",
   "metadata": {},
   "outputs": [
    {
     "data": {
      "text/latex": [
       "$\\displaystyle 4 + 5 = 9$"
      ],
      "text/plain": [
       "<IPython.core.display.Math object>"
      ]
     },
     "metadata": {},
     "output_type": "display_data"
    }
   ],
   "source": [
    "display(Math('%g + %g = %g' %(x,y,x+y)))"
   ]
  },
  {
   "cell_type": "code",
   "execution_count": 15,
   "id": "9e554450",
   "metadata": {},
   "outputs": [
    {
     "data": {
      "text/latex": [
       "$\\displaystyle 4/5 = .8$"
      ],
      "text/plain": [
       "<IPython.core.display.Math object>"
      ]
     },
     "metadata": {},
     "output_type": "display_data"
    },
    {
     "data": {
      "text/latex": [
       "$\\displaystyle \\frac{4}{5} = .8$"
      ],
      "text/plain": [
       "<IPython.core.display.Math object>"
      ]
     },
     "metadata": {},
     "output_type": "display_data"
    }
   ],
   "source": [
    "display(Math('4/5 = .8'))\n",
    "display(Math('\\\\frac{4}{5} = .8'))"
   ]
  },
  {
   "cell_type": "code",
   "execution_count": 16,
   "id": "bb367cd9",
   "metadata": {},
   "outputs": [
    {
     "data": {
      "text/latex": [
       "$\\displaystyle 3.4 \\times 17 = 57.8$"
      ],
      "text/plain": [
       "<IPython.core.display.Math object>"
      ]
     },
     "metadata": {},
     "output_type": "display_data"
    }
   ],
   "source": [
    "x = 3.4\n",
    "y = 17\n",
    "\n",
    "display(Math('%g \\\\times %g = %g' %(x,y,x*y)))"
   ]
  },
  {
   "cell_type": "code",
   "execution_count": 23,
   "id": "ba64b4d6",
   "metadata": {},
   "outputs": [
    {
     "data": {
      "text/latex": [
       "$\\displaystyle 3x(4 + y) = 42$"
      ],
      "text/plain": [
       "<IPython.core.display.Math object>"
      ]
     },
     "metadata": {},
     "output_type": "display_data"
    },
    {
     "data": {
      "text/latex": [
       "$\\displaystyle 3x(4+y) = 42$"
      ],
      "text/plain": [
       "<IPython.core.display.Math object>"
      ]
     },
     "metadata": {},
     "output_type": "display_data"
    },
    {
     "data": {
      "text/latex": [
       "$\\displaystyle 3 \\times 7(4 + -2) = 42$"
      ],
      "text/plain": [
       "<IPython.core.display.Math object>"
      ]
     },
     "metadata": {},
     "output_type": "display_data"
    },
    {
     "data": {
      "text/latex": [
       "$\\displaystyle 3\\times7(4-2) = 42$"
      ],
      "text/plain": [
       "<IPython.core.display.Math object>"
      ]
     },
     "metadata": {},
     "output_type": "display_data"
    },
    {
     "data": {
      "text/latex": [
       "$\\displaystyle 21 \\times 2 = 42$"
      ],
      "text/plain": [
       "<IPython.core.display.Math object>"
      ]
     },
     "metadata": {},
     "output_type": "display_data"
    }
   ],
   "source": [
    "x = 7\n",
    "y = -2\n",
    "z = 5\n",
    "\n",
    "ans = 3*x*(4+y)\n",
    "\n",
    "display(Math('3x(4 + y) = 42'))\n",
    "display(Math('3x(4+y) = %g' %ans))\n",
    "display(Math('3 \\\\times 7(4 + -2) = 42'))\n",
    "display(Math('3\\\\times%g(4%g) = %g' %(x,y,ans)))\n",
    "display(Math('%g \\\\times %g = %g' %(3*x,4+y,42)))"
   ]
  },
  {
   "cell_type": "code",
   "execution_count": 26,
   "id": "10924db1",
   "metadata": {},
   "outputs": [
    {
     "data": {
      "text/latex": [
       "$\\displaystyle -y - \\frac{x+3}{z} = 0$"
      ],
      "text/plain": [
       "<IPython.core.display.Math object>"
      ]
     },
     "metadata": {},
     "output_type": "display_data"
    },
    {
     "data": {
      "text/latex": [
       "$\\displaystyle --2 - \\frac{7+3}{5} = 0$"
      ],
      "text/plain": [
       "<IPython.core.display.Math object>"
      ]
     },
     "metadata": {},
     "output_type": "display_data"
    }
   ],
   "source": [
    "ans = -y - (x+3)/z\n",
    "\n",
    "display(Math('-y - \\\\frac{x+3}{z} = %g' %ans))\n",
    "display(Math('-%g - \\\\frac{%g+3}{%g} = %g' %(y,x,z,ans)))"
   ]
  },
  {
   "cell_type": "code",
   "execution_count": null,
   "id": "d46eee72",
   "metadata": {},
   "outputs": [],
   "source": [
    "# this is where variables are defined\n",
    "x = 1\n",
    "y = 2\n",
    "# ctrl + / = hotkey for comments, incl. multi-line"
   ]
  },
  {
   "cell_type": "markdown",
   "id": "59cd61ef",
   "metadata": {},
   "source": [
    "EXPONENTS:"
   ]
  },
  {
   "cell_type": "code",
   "execution_count": 27,
   "id": "61623cc1",
   "metadata": {},
   "outputs": [
    {
     "data": {
      "text/plain": [
       "27"
      ]
     },
     "execution_count": 27,
     "metadata": {},
     "output_type": "execute_result"
    }
   ],
   "source": [
    "x = 3\n",
    "3 ** 3"
   ]
  },
  {
   "cell_type": "code",
   "execution_count": 28,
   "id": "5c02527f",
   "metadata": {},
   "outputs": [
    {
     "data": {
      "text/plain": [
       "27"
      ]
     },
     "execution_count": 28,
     "metadata": {},
     "output_type": "execute_result"
    }
   ],
   "source": [
    "3 ** x"
   ]
  },
  {
   "cell_type": "code",
   "execution_count": 29,
   "id": "68390dc8",
   "metadata": {},
   "outputs": [
    {
     "data": {
      "text/plain": [
       "7625597484987"
      ]
     },
     "execution_count": 29,
     "metadata": {},
     "output_type": "execute_result"
    }
   ],
   "source": [
    "x ** x ** x"
   ]
  },
  {
   "cell_type": "code",
   "execution_count": 30,
   "id": "1c438727",
   "metadata": {},
   "outputs": [
    {
     "name": "stdout",
     "output_type": "stream",
     "text": [
      "729\n"
     ]
    }
   ],
   "source": [
    "print(3**2 * 3**4)"
   ]
  },
  {
   "cell_type": "code",
   "execution_count": 31,
   "id": "735f9e4f",
   "metadata": {},
   "outputs": [
    {
     "data": {
      "text/plain": [
       "2.0"
      ]
     },
     "execution_count": 31,
     "metadata": {},
     "output_type": "execute_result"
    }
   ],
   "source": [
    "4**(1/2)"
   ]
  },
  {
   "cell_type": "code",
   "execution_count": 32,
   "id": "f0a994ad",
   "metadata": {},
   "outputs": [
    {
     "data": {
      "text/latex": [
       "$\\displaystyle 3^2\\times 3^4 = 3^{2+4}$"
      ],
      "text/plain": [
       "<IPython.core.display.Math object>"
      ]
     },
     "metadata": {},
     "output_type": "display_data"
    }
   ],
   "source": [
    "display(Math('3^2\\\\times 3^4 = 3^{2+4}'))"
   ]
  },
  {
   "cell_type": "code",
   "execution_count": 34,
   "id": "744573ef",
   "metadata": {},
   "outputs": [
    {
     "data": {
      "text/latex": [
       "$\\displaystyle \\frac{3^3}{x^y} = 0.00735558$"
      ],
      "text/plain": [
       "<IPython.core.display.Math object>"
      ]
     },
     "metadata": {},
     "output_type": "display_data"
    }
   ],
   "source": [
    "x = 5\n",
    "y = 5.1\n",
    "\n",
    "ans = (3**3) / (x**y)\n",
    "display(Math('\\\\frac{3^3}{x^y} = %g' %ans))"
   ]
  },
  {
   "cell_type": "markdown",
   "id": "023050e8",
   "metadata": {},
   "source": [
    "FOR-LOOPS & EXPONENTS:"
   ]
  },
  {
   "cell_type": "code",
   "execution_count": 35,
   "id": "e3e1db09",
   "metadata": {},
   "outputs": [
    {
     "name": "stdout",
     "output_type": "stream",
     "text": [
      "0\n",
      "2\n",
      "4\n",
      "6\n"
     ]
    }
   ],
   "source": [
    "for i in [0,1,2,3]:\n",
    "    print(i*2)"
   ]
  },
  {
   "cell_type": "code",
   "execution_count": 36,
   "id": "58745ec4",
   "metadata": {},
   "outputs": [
    {
     "data": {
      "text/plain": [
       "[0, 1, 2]"
      ]
     },
     "execution_count": 36,
     "metadata": {},
     "output_type": "execute_result"
    }
   ],
   "source": [
    "list(range(0,3))"
   ]
  },
  {
   "cell_type": "code",
   "execution_count": 37,
   "id": "acbdbede",
   "metadata": {},
   "outputs": [
    {
     "name": "stdout",
     "output_type": "stream",
     "text": [
      "This is the 0th iteration.\n",
      "This is the 1th iteration.\n",
      "This is the 2th iteration.\n"
     ]
    }
   ],
   "source": [
    "for qwerty in range(0,3):\n",
    "    print('This is the %gth iteration.' %qwerty)"
   ]
  },
  {
   "cell_type": "code",
   "execution_count": 41,
   "id": "0782958f",
   "metadata": {},
   "outputs": [
    {
     "name": "stdout",
     "output_type": "stream",
     "text": [
      "0\n",
      "1\n",
      "4\n",
      "9\n",
      "16\n"
     ]
    }
   ],
   "source": [
    "for t in range(0,5):\n",
    "    num = t**2\n",
    "    print(num)"
   ]
  },
  {
   "cell_type": "code",
   "execution_count": 40,
   "id": "3cfebfe2",
   "metadata": {},
   "outputs": [
    {
     "name": "stdout",
     "output_type": "stream",
     "text": [
      "2 to the power of 0 is 1\n",
      "2 to the power of 1 is 2\n",
      "2 to the power of 2 is 4\n",
      "2 to the power of 3 is 8\n",
      "2 to the power of 4 is 16\n",
      "2 to the power of 5 is 32\n",
      "2 to the power of 6 is 64\n",
      "2 to the power of 7 is 128\n",
      "2 to the power of 8 is 256\n",
      "2 to the power of 9 is 512\n"
     ]
    }
   ],
   "source": [
    "base = 2\n",
    "\n",
    "for i in range(0,10):\n",
    "    print('%g to the power of %g is %g' %(base,i,base**i))"
   ]
  },
  {
   "cell_type": "markdown",
   "id": "6c424672",
   "metadata": {},
   "source": [
    "INEQUALITIES:"
   ]
  },
  {
   "cell_type": "code",
   "execution_count": 42,
   "id": "c4149eb9",
   "metadata": {},
   "outputs": [
    {
     "data": {
      "text/plain": [
       "False"
      ]
     },
     "execution_count": 42,
     "metadata": {},
     "output_type": "execute_result"
    }
   ],
   "source": [
    "4 > 5"
   ]
  },
  {
   "cell_type": "code",
   "execution_count": 43,
   "id": "6be623ae",
   "metadata": {},
   "outputs": [
    {
     "data": {
      "text/plain": [
       "True"
      ]
     },
     "execution_count": 43,
     "metadata": {},
     "output_type": "execute_result"
    }
   ],
   "source": [
    "4<=3+2"
   ]
  },
  {
   "cell_type": "code",
   "execution_count": 44,
   "id": "fff976a7",
   "metadata": {},
   "outputs": [
    {
     "data": {
      "text/plain": [
       "True"
      ]
     },
     "execution_count": 44,
     "metadata": {},
     "output_type": "execute_result"
    }
   ],
   "source": [
    "4==2+2"
   ]
  },
  {
   "cell_type": "markdown",
   "id": "bd24faae",
   "metadata": {},
   "source": [
    "IF STATEMENTS:"
   ]
  },
  {
   "cell_type": "code",
   "execution_count": 45,
   "id": "012773f7",
   "metadata": {},
   "outputs": [
    {
     "name": "stdout",
     "output_type": "stream",
     "text": [
      "true\n"
     ]
    }
   ],
   "source": [
    "if 4+2==6:\n",
    "    print('true')\n",
    "else:\n",
    "    print('false')"
   ]
  },
  {
   "cell_type": "code",
   "execution_count": 46,
   "id": "8fb333de",
   "metadata": {},
   "outputs": [
    {
     "name": "stdout",
     "output_type": "stream",
     "text": [
      "5 is greater than 4\n"
     ]
    }
   ],
   "source": [
    "x1 = 5\n",
    "x2 = 4\n",
    "\n",
    "if x1>x2:\n",
    "    print('%g is greater than %g' %(x1,x2))\n",
    "elif x1<x2:\n",
    "    print('%g is greater than %g' %(x2,x1))\n",
    "else:\n",
    "    print('%g is equal to %g' %(x1,x2))"
   ]
  },
  {
   "cell_type": "code",
   "execution_count": 47,
   "id": "060cc9c5",
   "metadata": {},
   "outputs": [],
   "source": [
    "from IPython.display import display,Math"
   ]
  },
  {
   "cell_type": "code",
   "execution_count": 50,
   "id": "ecffe12c",
   "metadata": {},
   "outputs": [
    {
     "data": {
      "text/latex": [
       "$\\displaystyle 1^{-1} = 1$"
      ],
      "text/plain": [
       "<IPython.core.display.Math object>"
      ]
     },
     "metadata": {},
     "output_type": "display_data"
    },
    {
     "data": {
      "text/latex": [
       "$\\displaystyle 1^{-2} = 1$"
      ],
      "text/plain": [
       "<IPython.core.display.Math object>"
      ]
     },
     "metadata": {},
     "output_type": "display_data"
    },
    {
     "data": {
      "text/latex": [
       "$\\displaystyle 1^{-3} = 1$"
      ],
      "text/plain": [
       "<IPython.core.display.Math object>"
      ]
     },
     "metadata": {},
     "output_type": "display_data"
    },
    {
     "data": {
      "text/latex": [
       "$\\displaystyle 1^{-4} = 1$"
      ],
      "text/plain": [
       "<IPython.core.display.Math object>"
      ]
     },
     "metadata": {},
     "output_type": "display_data"
    },
    {
     "data": {
      "text/latex": [
       "$\\displaystyle 2^{-1} = 0.5$"
      ],
      "text/plain": [
       "<IPython.core.display.Math object>"
      ]
     },
     "metadata": {},
     "output_type": "display_data"
    },
    {
     "data": {
      "text/latex": [
       "$\\displaystyle 2^{-2} = 0.25$"
      ],
      "text/plain": [
       "<IPython.core.display.Math object>"
      ]
     },
     "metadata": {},
     "output_type": "display_data"
    },
    {
     "data": {
      "text/latex": [
       "$\\displaystyle 2^{-3} = 0.125$"
      ],
      "text/plain": [
       "<IPython.core.display.Math object>"
      ]
     },
     "metadata": {},
     "output_type": "display_data"
    },
    {
     "data": {
      "text/latex": [
       "$\\displaystyle 2^{-4} = 0.0625$"
      ],
      "text/plain": [
       "<IPython.core.display.Math object>"
      ]
     },
     "metadata": {},
     "output_type": "display_data"
    },
    {
     "data": {
      "text/latex": [
       "$\\displaystyle 3^{-1} = 0.333333$"
      ],
      "text/plain": [
       "<IPython.core.display.Math object>"
      ]
     },
     "metadata": {},
     "output_type": "display_data"
    },
    {
     "data": {
      "text/latex": [
       "$\\displaystyle 3^{-2} = 0.111111$"
      ],
      "text/plain": [
       "<IPython.core.display.Math object>"
      ]
     },
     "metadata": {},
     "output_type": "display_data"
    },
    {
     "data": {
      "text/latex": [
       "$\\displaystyle 3^{-3} = 0.037037$"
      ],
      "text/plain": [
       "<IPython.core.display.Math object>"
      ]
     },
     "metadata": {},
     "output_type": "display_data"
    },
    {
     "data": {
      "text/latex": [
       "$\\displaystyle 3^{-4} = 0.0123457$"
      ],
      "text/plain": [
       "<IPython.core.display.Math object>"
      ]
     },
     "metadata": {},
     "output_type": "display_data"
    }
   ],
   "source": [
    "# remember that ^ is for laTeX and ** is for python\n",
    "\n",
    "for i in range(0,4):\n",
    "    for j in range(0,5):\n",
    "        if i>0 and j>0:\n",
    "            display(Math('%g^{-%g} = %g' %(i,j,i**-j)))"
   ]
  },
  {
   "cell_type": "markdown",
   "id": "83f5a8be",
   "metadata": {},
   "source": [
    "ABSOLUTE VALUE:"
   ]
  },
  {
   "cell_type": "code",
   "execution_count": 51,
   "id": "082f1ba6",
   "metadata": {},
   "outputs": [
    {
     "data": {
      "text/plain": [
       "(-4, 4)"
      ]
     },
     "execution_count": 51,
     "metadata": {},
     "output_type": "execute_result"
    }
   ],
   "source": [
    "a = -4\n",
    "b = abs(a)\n",
    "a,b"
   ]
  },
  {
   "cell_type": "code",
   "execution_count": 53,
   "id": "5f909d8b",
   "metadata": {},
   "outputs": [
    {
     "data": {
      "text/latex": [
       "$\\displaystyle |-4.3| = 4.3$"
      ],
      "text/plain": [
       "<IPython.core.display.Math object>"
      ]
     },
     "metadata": {},
     "output_type": "display_data"
    }
   ],
   "source": [
    "x = -4.3\n",
    "\n",
    "display(Math('|%g| = %g' %(x,abs(x))))"
   ]
  },
  {
   "cell_type": "code",
   "execution_count": 55,
   "id": "cc00aa1a",
   "metadata": {},
   "outputs": [
    {
     "name": "stdout",
     "output_type": "stream",
     "text": [
      "-4 was not tested.\n",
      "Absolute value of 6 is 6.\n",
      "-1 was not tested.\n",
      "Absolute value of 43 is 43.\n",
      "Absolute value of -18 is 18.\n",
      "2 was not tested.\n",
      "0 was not tested.\n"
     ]
    }
   ],
   "source": [
    "numbers = [-4,6,-1,43,-18,2,0]\n",
    "\n",
    "#for-loop\n",
    "for numi in numbers:\n",
    "    if numi<-5 or numi>2:\n",
    "        print('Absolute value of %g is %g.' %(numi,abs(numi)))\n",
    "    else:\n",
    "        print(str(numi) + ' was not tested.')"
   ]
  },
  {
   "cell_type": "markdown",
   "id": "e79d1d00",
   "metadata": {},
   "source": [
    "REMAINDER AFTER DIVISION:"
   ]
  },
  {
   "cell_type": "code",
   "execution_count": 58,
   "id": "af75d1cf",
   "metadata": {},
   "outputs": [
    {
     "data": {
      "text/plain": [
       "3"
      ]
     },
     "execution_count": 58,
     "metadata": {},
     "output_type": "execute_result"
    }
   ],
   "source": [
    "a = 10\n",
    "b = 3\n",
    "\n",
    "#int division\n",
    "int(a/b)\n",
    "\n",
    "# shift+tab for help files"
   ]
  },
  {
   "cell_type": "code",
   "execution_count": 59,
   "id": "0f4ee02c",
   "metadata": {},
   "outputs": [
    {
     "data": {
      "text/plain": [
       "1"
      ]
     },
     "execution_count": 59,
     "metadata": {},
     "output_type": "execute_result"
    }
   ],
   "source": [
    "a%b"
   ]
  },
  {
   "cell_type": "code",
   "execution_count": 60,
   "id": "2811e0a5",
   "metadata": {},
   "outputs": [
    {
     "name": "stdout",
     "output_type": "stream",
     "text": [
      "3 goes into 10, 3 times with a remainder of 1.\n"
     ]
    }
   ],
   "source": [
    "divis = int(a/b)\n",
    "remainder = a%b\n",
    "\n",
    "print('%g goes into %g, %g times with a remainder of %g.' %(b,a,divis,remainder))"
   ]
  },
  {
   "cell_type": "code",
   "execution_count": 61,
   "id": "1f0ec25a",
   "metadata": {},
   "outputs": [
    {
     "name": "stdout",
     "output_type": "stream",
     "text": [
      "-5 is an odd number\n",
      "-4 is an even number\n",
      "-3 is an odd number\n",
      "-2 is an even number\n",
      "-1 is an odd number\n",
      "0 is an even number\n",
      "1 is an odd number\n",
      "2 is an even number\n",
      "3 is an odd number\n",
      "4 is an even number\n",
      "5 is an odd number\n"
     ]
    }
   ],
   "source": [
    "nums = range(-5,6)\n",
    "\n",
    "for i in nums:\n",
    "    \n",
    "    #test\n",
    "    if i%2 == 0:\n",
    "        print('%g is an even number' %i)\n",
    "    else:\n",
    "        print('%g is an odd number' %i)"
   ]
  },
  {
   "cell_type": "markdown",
   "id": "a3bcd45c",
   "metadata": {},
   "source": [
    "INTERACTIVE FUNCTIONS:"
   ]
  },
  {
   "cell_type": "code",
   "execution_count": 65,
   "id": "bf2690a9",
   "metadata": {},
   "outputs": [],
   "source": [
    "def myfunction(name):\n",
    "    print('Hello %s.' %name)"
   ]
  },
  {
   "cell_type": "code",
   "execution_count": 66,
   "id": "be044d9d",
   "metadata": {},
   "outputs": [
    {
     "name": "stdout",
     "output_type": "stream",
     "text": [
      "Hello Mike.\n"
     ]
    }
   ],
   "source": [
    "myfunction('Mike')"
   ]
  },
  {
   "cell_type": "code",
   "execution_count": 67,
   "id": "544ba58e",
   "metadata": {},
   "outputs": [],
   "source": [
    "def computeremainder(x,y):\n",
    "    divis = int(x/y)\n",
    "    remainder = x%y\n",
    "    \n",
    "    print('%g goes into %g, %g times with a remainder of %g' %(y,x,divis,remainder))"
   ]
  },
  {
   "cell_type": "code",
   "execution_count": 68,
   "id": "1b9369e3",
   "metadata": {},
   "outputs": [
    {
     "name": "stdout",
     "output_type": "stream",
     "text": [
      "6 goes into 100, 16 times with a remainder of 4\n"
     ]
    }
   ],
   "source": [
    "computeremainder(100,6)"
   ]
  },
  {
   "cell_type": "code",
   "execution_count": 69,
   "id": "51028baf",
   "metadata": {},
   "outputs": [],
   "source": [
    "def divisionWithInput():\n",
    "    \n",
    "    x = int(input('Input value for x.'))\n",
    "    y = int(input('Input value for y.'))\n",
    "    \n",
    "    divis = int(x/y)\n",
    "    remainder = x%y\n",
    "    \n",
    "    print('%g goes into %g, %g times with a remainder of %g' %(y,x,divis,remainder))"
   ]
  },
  {
   "cell_type": "code",
   "execution_count": 70,
   "id": "ed77f22e",
   "metadata": {},
   "outputs": [
    {
     "name": "stdout",
     "output_type": "stream",
     "text": [
      "Input value for x.4\n",
      "Input value for y.2\n",
      "2 goes into 4, 2 times with a remainder of 0\n"
     ]
    }
   ],
   "source": [
    "divisionWithInput()"
   ]
  },
  {
   "cell_type": "markdown",
   "id": "af46fbe1",
   "metadata": {},
   "source": [
    "FUNCTIONS p.2:"
   ]
  },
  {
   "cell_type": "code",
   "execution_count": 76,
   "id": "09449f69",
   "metadata": {},
   "outputs": [],
   "source": [
    "#create functions\n",
    "\n",
    "def powers(x,y):\n",
    "    display(Math('%g^{%g} = %g' %(x,y,x**y)))\n",
    "    \n",
    "def division(x,y):\n",
    "    display(Math('\\\\frac{%g}{%g} = %g' %(x,y,x/y)))\n",
    "    \n",
    "def mainfunction():\n",
    "    #get input\n",
    "    x = float(input('Input X: '))\n",
    "    y = float(input('Input Y: '))\n",
    "    \n",
    "    display(Math('\\\\text{Press \"1\" to compute }%g^{%g}\\\\text{ or press \"2\" to compute}\\\\frac{%g}{%g}' %(x,y,x,y)))\n",
    "    switch = input(' ')\n",
    "    \n",
    "    if switch=='1':\n",
    "        powers(x,y)\n",
    "    elif switch=='2':\n",
    "        division(x,y)\n",
    "    else:\n",
    "        print('Invalid!')"
   ]
  },
  {
   "cell_type": "code",
   "execution_count": 72,
   "id": "7c1bc672",
   "metadata": {},
   "outputs": [
    {
     "data": {
      "text/latex": [
       "$\\displaystyle 2^{4} = 16$"
      ],
      "text/plain": [
       "<IPython.core.display.Math object>"
      ]
     },
     "metadata": {},
     "output_type": "display_data"
    }
   ],
   "source": [
    "powers(2,4)"
   ]
  },
  {
   "cell_type": "code",
   "execution_count": 74,
   "id": "90fe23e0",
   "metadata": {},
   "outputs": [
    {
     "data": {
      "text/latex": [
       "$\\displaystyle \\frac{4}{1} = 4$"
      ],
      "text/plain": [
       "<IPython.core.display.Math object>"
      ]
     },
     "metadata": {},
     "output_type": "display_data"
    }
   ],
   "source": [
    "division(4,1)"
   ]
  },
  {
   "cell_type": "code",
   "execution_count": 77,
   "id": "e2be0819",
   "metadata": {},
   "outputs": [
    {
     "name": "stdout",
     "output_type": "stream",
     "text": [
      "Input X: 4\n",
      "Input Y: 4\n"
     ]
    },
    {
     "data": {
      "text/latex": [
       "$\\displaystyle \\text{Press \"1\" to compute }4^{4}\\text{ or press \"2\" to compute}\\frac{4}{4}$"
      ],
      "text/plain": [
       "<IPython.core.display.Math object>"
      ]
     },
     "metadata": {},
     "output_type": "display_data"
    },
    {
     "name": "stdout",
     "output_type": "stream",
     "text": [
      " 1\n"
     ]
    },
    {
     "data": {
      "text/latex": [
       "$\\displaystyle 4^{4} = 256$"
      ],
      "text/plain": [
       "<IPython.core.display.Math object>"
      ]
     },
     "metadata": {},
     "output_type": "display_data"
    }
   ],
   "source": [
    "mainfunction()"
   ]
  },
  {
   "cell_type": "markdown",
   "id": "7cc61349",
   "metadata": {},
   "source": [
    "FUNCTIONS p.3:"
   ]
  },
  {
   "cell_type": "code",
   "execution_count": 79,
   "id": "ec7cf630",
   "metadata": {},
   "outputs": [],
   "source": [
    "from numpy import random\n",
    "\n",
    "# function definition\n",
    "def guessTheNumber():\n",
    "    \n",
    "    #generate random int\n",
    "    num2guess = random.randint(1,101)\n",
    "    \n",
    "    #ask for a guess\n",
    "    userguess = int(input('Guess a number between 1 and 100: '))\n",
    "    \n",
    "    #check whether the number is a match\n",
    "    while userguess !=num2guess:\n",
    "        \n",
    "        #print message and ask for new guess\n",
    "        if userguess<num2guess:\n",
    "            print('Guess higher!')\n",
    "        elif userguess>num2guess:\n",
    "            print('Guess lower!')\n",
    "            \n",
    "        userguess = int(input('Guess again: '))\n",
    "        \n",
    "    # if the guess is correct\n",
    "    print('YES!! You guessed correctly!')"
   ]
  },
  {
   "cell_type": "code",
   "execution_count": 80,
   "id": "52df997a",
   "metadata": {},
   "outputs": [
    {
     "name": "stdout",
     "output_type": "stream",
     "text": [
      "Guess a number between 1 and 100: 40\n",
      "Guess lower!\n",
      "Guess again: 29\n",
      "Guess higher!\n",
      "Guess again: 35\n",
      "Guess lower!\n",
      "Guess again: 33\n",
      "Guess lower!\n",
      "Guess again: 32\n",
      "YES!! You guessed correctly!\n"
     ]
    }
   ],
   "source": [
    "guessTheNumber()"
   ]
  },
  {
   "cell_type": "code",
   "execution_count": null,
   "id": "f510a951",
   "metadata": {},
   "outputs": [],
   "source": []
  },
  {
   "cell_type": "code",
   "execution_count": 85,
   "id": "688fdb6b",
   "metadata": {},
   "outputs": [],
   "source": [
    "import sympy as sym\n",
    "sym.init_printing()\n",
    "from IPython.display import display"
   ]
  },
  {
   "cell_type": "code",
   "execution_count": null,
   "id": "ae015c38",
   "metadata": {},
   "outputs": [],
   "source": []
  },
  {
   "cell_type": "code",
   "execution_count": 84,
   "id": "3a6eb9a2",
   "metadata": {},
   "outputs": [
    {
     "data": {
      "image/png": "[encoded data removed]",
      "text/latex": [
       "$\\displaystyle x$"
      ],
      "text/plain": [
       "x"
      ]
     },
     "execution_count": 84,
     "metadata": {},
     "output_type": "execute_result"
    }
   ],
   "source": [
    "x,y = sym.symbols('x,y')\n",
    "x"
   ]
  },
  {
   "cell_type": "code",
   "execution_count": 86,
   "id": "6acf43d9",
   "metadata": {},
   "outputs": [
    {
     "data": {
      "image/png": "[encoded data removed]",
      "text/latex": [
       "$\\displaystyle x^{y}$"
      ],
      "text/plain": [
       " y\n",
       "x "
      ]
     },
     "metadata": {},
     "output_type": "display_data"
    }
   ],
   "source": [
    "display(x**y)"
   ]
  },
  {
   "cell_type": "code",
   "execution_count": 87,
   "id": "a1b3d761",
   "metadata": {},
   "outputs": [
    {
     "data": {
      "image/png": "[encoded data removed]",
      "text/latex": [
       "$\\displaystyle \\frac{x}{y}$"
      ],
      "text/plain": [
       "x\n",
       "─\n",
       "y"
      ]
     },
     "metadata": {},
     "output_type": "display_data"
    }
   ],
   "source": [
    "display(x/y)"
   ]
  },
  {
   "cell_type": "code",
   "execution_count": null,
   "id": "54f38f4b",
   "metadata": {},
   "outputs": [],
   "source": []
  }
 ],
 "metadata": {
  "kernelspec": {
   "display_name": "Python 3 (ipykernel)",
   "language": "python",
   "name": "python3"
  },
  "language_info": {
   "codemirror_mode": {
    "name": "ipython",
    "version": 3
   },
   "file_extension": ".py",
   "mimetype": "text/x-python",
   "name": "python",
   "nbconvert_exporter": "python",
   "pygments_lexer": "ipython3",
   "version": "3.10.9"
  }
 },
 "nbformat": 4,
 "nbformat_minor": 5
}
